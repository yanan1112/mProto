{
 "cells": [
  {
   "cell_type": "code",
   "execution_count": 1,
   "metadata": {
    "collapsed": false
   },
   "outputs": [
    {
     "name": "stdout",
     "output_type": "stream",
     "text": [
      "Populating the interactive namespace from numpy and matplotlib\n"
     ]
    }
   ],
   "source": [
    "import pandas as pd\n",
    "import matplotlib.pyplot as plt\n",
    "\n",
    "%pylab inline"
   ]
  },
  {
   "cell_type": "code",
   "execution_count": 2,
   "metadata": {
    "collapsed": false
   },
   "outputs": [
    {
     "name": "stdout",
     "output_type": "stream",
     "text": [
      "Tokenization took: 0.92 ms\n",
      "Type conversion took: 1.45 ms\n",
      "Parser memory cleanup took: 0.00 ms\n",
      "<class 'pandas.core.frame.DataFrame'>\n",
      "Index: 2466 entries, 2016-09-05 to 2007-03-26\n",
      "Data columns (total 8 columns):\n",
      "Open                       2466 non-null float64\n",
      "High                       2466 non-null float64\n",
      "Low                        2466 non-null float64\n",
      "Close                      2466 non-null float64\n",
      "Volume                     2466 non-null int64\n",
      "Price to Earnings Ratio    1902 non-null float64\n",
      "Price to Sales Ratio       1902 non-null float64\n",
      "Unnamed: 8                 0 non-null float64\n",
      "dtypes: float64(7), int64(1)\n",
      "memory usage: 173.4+ KB\n",
      "None\n",
      "\n",
      "\n",
      " data shape:  (2466, 8)\n"
     ]
    }
   ],
   "source": [
    "# read data from csv file\n",
    "data = pd.read_csv(\"ARMH.csv\", \n",
    "                   warn_bad_lines = True, \n",
    "                   error_bad_lines = False, \n",
    "                   verbose = True,\n",
    "                   index_col = 'Date')\n",
    "print data.info()\n",
    "print \"\\n\\n data shape: \", data.shape"
   ]
  },
  {
   "cell_type": "code",
   "execution_count": 3,
   "metadata": {
    "collapsed": false
   },
   "outputs": [
    {
     "name": "stdout",
     "output_type": "stream",
     "text": [
      "<class 'pandas.core.frame.DataFrame'>\n",
      "Index: 2466 entries, 2007-03-26 to 2016-09-05\n",
      "Data columns (total 7 columns):\n",
      "Open                       2466 non-null float64\n",
      "High                       2466 non-null float64\n",
      "Low                        2466 non-null float64\n",
      "Close                      2466 non-null float64\n",
      "Volume                     2466 non-null int64\n",
      "Price to Earnings Ratio    1902 non-null float64\n",
      "Price to Sales Ratio       1902 non-null float64\n",
      "dtypes: float64(6), int64(1)\n",
      "memory usage: 154.1+ KB\n",
      "None\n",
      "(2466, 7)\n",
      "            Open  High   Low  Close  Volume  Price to Earnings Ratio  \\\n",
      "Date                                                                   \n",
      "2007-03-26  7.90  7.90  7.77   7.89  237167                      NaN   \n",
      "2007-03-27  7.71  7.76  7.67   7.73  151323                      NaN   \n",
      "2007-03-28  7.70  7.79  7.67   7.71  150269                      NaN   \n",
      "2007-03-29  7.95  7.95  7.77   7.80  648457                      NaN   \n",
      "2007-03-30  7.77  7.89  7.75   7.85  271083                      NaN   \n",
      "\n",
      "            Price to Sales Ratio  \n",
      "Date                              \n",
      "2007-03-26                   NaN  \n",
      "2007-03-27                   NaN  \n",
      "2007-03-28                   NaN  \n",
      "2007-03-29                   NaN  \n",
      "2007-03-30                   NaN  \n"
     ]
    }
   ],
   "source": [
    "# drop last coloumn\n",
    "data.drop(data.columns[[7]], axis = 1, inplace = True)\n",
    "\n",
    "data = data.iloc[::-1]\n",
    "\n",
    "print data.info()\n",
    "print data.shape\n",
    "print data.head()"
   ]
  },
  {
   "cell_type": "code",
   "execution_count": 4,
   "metadata": {
    "collapsed": false
   },
   "outputs": [
    {
     "name": "stdout",
     "output_type": "stream",
     "text": [
      "            Close\n",
      "Date             \n",
      "2007-03-26   7.89\n",
      "2007-03-27   7.73\n",
      "2007-03-28   7.71\n",
      "2007-03-29   7.80\n",
      "2007-03-30   7.85\n",
      "2007-04-02   7.84\n",
      "2007-04-03   7.83\n",
      "2007-04-04   7.82\n",
      "2007-04-05   7.77\n",
      "2007-04-06   7.77\n"
     ]
    }
   ],
   "source": [
    "close = data[['Close']]\n",
    "\n",
    "print close.head(10)"
   ]
  },
  {
   "cell_type": "code",
   "execution_count": 5,
   "metadata": {
    "collapsed": false
   },
   "outputs": [
    {
     "data": {
      "text/plain": [
       "<matplotlib.axes._subplots.AxesSubplot at 0x7f408b0a6890>"
      ]
     },
     "execution_count": 5,
     "metadata": {},
     "output_type": "execute_result"
    },
    {
     "data": {
      "image/png": "[encoded data removed]",
      "text/plain": [
       "<matplotlib.figure.Figure at 0x7f408b0a60d0>"
      ]
     },
     "metadata": {},
     "output_type": "display_data"
    }
   ],
   "source": [
    "close.plot()"
   ]
  },
  {
   "cell_type": "code",
   "execution_count": 6,
   "metadata": {
    "collapsed": false
   },
   "outputs": [
    {
     "data": {
      "text/plain": [
       "<matplotlib.axes._subplots.AxesSubplot at 0x7f408b090d90>"
      ]
     },
     "execution_count": 6,
     "metadata": {},
     "output_type": "execute_result"
    },
    {
     "data": {
      "image/png": "[encoded data removed]",
      "text/plain": [
       "<matplotlib.figure.Figure at 0x7f408b0170d0>"
      ]
     },
     "metadata": {},
     "output_type": "display_data"
    }
   ],
   "source": [
    "close.diff().plot(title = 'diff')"
   ]
  },
  {
   "cell_type": "code",
   "execution_count": 7,
   "metadata": {
    "collapsed": false
   },
   "outputs": [
    {
     "data": {
      "text/plain": [
       "<matplotlib.axes._subplots.AxesSubplot at 0x7f408af89a10>"
      ]
     },
     "execution_count": 7,
     "metadata": {},
     "output_type": "execute_result"
    },
    {
     "data": {
      "image/png": "[encoded data removed]",
      "text/plain": [
       "<matplotlib.figure.Figure at 0x7f408af89190>"
      ]
     },
     "metadata": {},
     "output_type": "display_data"
    }
   ],
   "source": [
    "np.log(close.Close).diff().plot(title = 'log diff')"
   ]
  },
  {
   "cell_type": "code",
   "execution_count": 8,
   "metadata": {
    "collapsed": false
   },
   "outputs": [
    {
     "data": {
      "text/plain": [
       "<matplotlib.axes._subplots.AxesSubplot at 0x7f4088e34690>"
      ]
     },
     "execution_count": 8,
     "metadata": {},
     "output_type": "execute_result"
    },
    {
     "data": {
      "image/png": "[encoded data removed]",
      "text/plain": [
       "<matplotlib.figure.Figure at 0x7f4088db6490>"
      ]
     },
     "metadata": {},
     "output_type": "display_data"
    }
   ],
   "source": [
    "np.sqrt(close.Close).diff().plot(title = 'sqrt diff')"
   ]
  },
  {
   "cell_type": "code",
   "execution_count": 13,
   "metadata": {
    "collapsed": false
   },
   "outputs": [
    {
     "data": {
      "text/html": [
       "<div>\n",
       "<table border=\"1\" class=\"dataframe\">\n",
       "  <thead>\n",
       "    <tr style=\"text-align: right;\">\n",
       "      <th></th>\n",
       "      <th>Close</th>\n",
       "    </tr>\n",
       "    <tr>\n",
       "      <th>Date</th>\n",
       "      <th></th>\n",
       "    </tr>\n",
       "  </thead>\n",
       "  <tbody>\n",
       "    <tr>\n",
       "      <th>2007-03-26</th>\n",
       "      <td>0.725419</td>\n",
       "    </tr>\n",
       "    <tr>\n",
       "      <th>2007-03-27</th>\n",
       "      <td>0.715451</td>\n",
       "    </tr>\n",
       "    <tr>\n",
       "      <th>2007-03-28</th>\n",
       "      <td>0.714183</td>\n",
       "    </tr>\n",
       "    <tr>\n",
       "      <th>2007-03-29</th>\n",
       "      <td>0.719849</td>\n",
       "    </tr>\n",
       "    <tr>\n",
       "      <th>2007-03-30</th>\n",
       "      <td>0.722955</td>\n",
       "    </tr>\n",
       "    <tr>\n",
       "      <th>2007-04-02</th>\n",
       "      <td>0.722336</td>\n",
       "    </tr>\n",
       "    <tr>\n",
       "      <th>2007-04-03</th>\n",
       "      <td>0.721716</td>\n",
       "    </tr>\n",
       "    <tr>\n",
       "      <th>2007-04-04</th>\n",
       "      <td>0.721095</td>\n",
       "    </tr>\n",
       "    <tr>\n",
       "      <th>2007-04-05</th>\n",
       "      <td>0.717972</td>\n",
       "    </tr>\n",
       "    <tr>\n",
       "      <th>2007-04-06</th>\n",
       "      <td>0.717972</td>\n",
       "    </tr>\n",
       "    <tr>\n",
       "      <th>2007-04-09</th>\n",
       "      <td>0.711634</td>\n",
       "    </tr>\n",
       "    <tr>\n",
       "      <th>2007-04-10</th>\n",
       "      <td>0.719225</td>\n",
       "    </tr>\n",
       "    <tr>\n",
       "      <th>2007-04-11</th>\n",
       "      <td>0.712911</td>\n",
       "    </tr>\n",
       "    <tr>\n",
       "      <th>2007-04-12</th>\n",
       "      <td>0.717343</td>\n",
       "    </tr>\n",
       "    <tr>\n",
       "      <th>2007-04-13</th>\n",
       "      <td>0.721095</td>\n",
       "    </tr>\n",
       "    <tr>\n",
       "      <th>2007-04-16</th>\n",
       "      <td>0.730895</td>\n",
       "    </tr>\n",
       "    <tr>\n",
       "      <th>2007-04-17</th>\n",
       "      <td>0.727254</td>\n",
       "    </tr>\n",
       "    <tr>\n",
       "      <th>2007-04-18</th>\n",
       "      <td>0.727254</td>\n",
       "    </tr>\n",
       "    <tr>\n",
       "      <th>2007-04-19</th>\n",
       "      <td>0.724805</td>\n",
       "    </tr>\n",
       "    <tr>\n",
       "      <th>2007-04-20</th>\n",
       "      <td>0.726644</td>\n",
       "    </tr>\n",
       "    <tr>\n",
       "      <th>2007-04-23</th>\n",
       "      <td>0.729686</td>\n",
       "    </tr>\n",
       "    <tr>\n",
       "      <th>2007-04-24</th>\n",
       "      <td>0.735091</td>\n",
       "    </tr>\n",
       "    <tr>\n",
       "      <th>2007-04-25</th>\n",
       "      <td>0.727254</td>\n",
       "    </tr>\n",
       "    <tr>\n",
       "      <th>2007-04-26</th>\n",
       "      <td>0.751917</td>\n",
       "    </tr>\n",
       "    <tr>\n",
       "      <th>2007-04-27</th>\n",
       "      <td>0.749648</td>\n",
       "    </tr>\n",
       "    <tr>\n",
       "      <th>2007-04-30</th>\n",
       "      <td>0.730895</td>\n",
       "    </tr>\n",
       "    <tr>\n",
       "      <th>2007-05-01</th>\n",
       "      <td>0.743904</td>\n",
       "    </tr>\n",
       "    <tr>\n",
       "      <th>2007-05-02</th>\n",
       "      <td>0.740993</td>\n",
       "    </tr>\n",
       "    <tr>\n",
       "      <th>2007-05-03</th>\n",
       "      <td>0.747363</td>\n",
       "    </tr>\n",
       "    <tr>\n",
       "      <th>2007-05-04</th>\n",
       "      <td>0.754732</td>\n",
       "    </tr>\n",
       "    <tr>\n",
       "      <th>...</th>\n",
       "      <td>...</td>\n",
       "    </tr>\n",
       "    <tr>\n",
       "      <th>2016-07-26</th>\n",
       "      <td>1.433448</td>\n",
       "    </tr>\n",
       "    <tr>\n",
       "      <th>2016-07-27</th>\n",
       "      <td>1.433340</td>\n",
       "    </tr>\n",
       "    <tr>\n",
       "      <th>2016-07-28</th>\n",
       "      <td>1.432329</td>\n",
       "    </tr>\n",
       "    <tr>\n",
       "      <th>2016-07-29</th>\n",
       "      <td>1.433916</td>\n",
       "    </tr>\n",
       "    <tr>\n",
       "      <th>2016-08-01</th>\n",
       "      <td>1.433052</td>\n",
       "    </tr>\n",
       "    <tr>\n",
       "      <th>2016-08-02</th>\n",
       "      <td>1.435133</td>\n",
       "    </tr>\n",
       "    <tr>\n",
       "      <th>2016-08-03</th>\n",
       "      <td>1.437122</td>\n",
       "    </tr>\n",
       "    <tr>\n",
       "      <th>2016-08-04</th>\n",
       "      <td>1.433808</td>\n",
       "    </tr>\n",
       "    <tr>\n",
       "      <th>2016-08-05</th>\n",
       "      <td>1.432980</td>\n",
       "    </tr>\n",
       "    <tr>\n",
       "      <th>2016-08-08</th>\n",
       "      <td>1.432075</td>\n",
       "    </tr>\n",
       "    <tr>\n",
       "      <th>2016-08-09</th>\n",
       "      <td>1.431348</td>\n",
       "    </tr>\n",
       "    <tr>\n",
       "      <th>2016-08-10</th>\n",
       "      <td>1.431348</td>\n",
       "    </tr>\n",
       "    <tr>\n",
       "      <th>2016-08-11</th>\n",
       "      <td>1.431057</td>\n",
       "    </tr>\n",
       "    <tr>\n",
       "      <th>2016-08-12</th>\n",
       "      <td>1.429813</td>\n",
       "    </tr>\n",
       "    <tr>\n",
       "      <th>2016-08-15</th>\n",
       "      <td>1.429225</td>\n",
       "    </tr>\n",
       "    <tr>\n",
       "      <th>2016-08-16</th>\n",
       "      <td>1.432220</td>\n",
       "    </tr>\n",
       "    <tr>\n",
       "      <th>2016-08-17</th>\n",
       "      <td>1.432618</td>\n",
       "    </tr>\n",
       "    <tr>\n",
       "      <th>2016-08-18</th>\n",
       "      <td>1.434919</td>\n",
       "    </tr>\n",
       "    <tr>\n",
       "      <th>2016-08-19</th>\n",
       "      <td>1.433592</td>\n",
       "    </tr>\n",
       "    <tr>\n",
       "      <th>2016-08-22</th>\n",
       "      <td>1.434275</td>\n",
       "    </tr>\n",
       "    <tr>\n",
       "      <th>2016-08-23</th>\n",
       "      <td>1.435561</td>\n",
       "    </tr>\n",
       "    <tr>\n",
       "      <th>2016-08-24</th>\n",
       "      <td>1.435739</td>\n",
       "    </tr>\n",
       "    <tr>\n",
       "      <th>2016-08-25</th>\n",
       "      <td>1.435240</td>\n",
       "    </tr>\n",
       "    <tr>\n",
       "      <th>2016-08-26</th>\n",
       "      <td>1.434131</td>\n",
       "    </tr>\n",
       "    <tr>\n",
       "      <th>2016-08-29</th>\n",
       "      <td>1.433196</td>\n",
       "    </tr>\n",
       "    <tr>\n",
       "      <th>2016-08-30</th>\n",
       "      <td>1.434418</td>\n",
       "    </tr>\n",
       "    <tr>\n",
       "      <th>2016-08-31</th>\n",
       "      <td>1.433628</td>\n",
       "    </tr>\n",
       "    <tr>\n",
       "      <th>2016-09-01</th>\n",
       "      <td>1.437757</td>\n",
       "    </tr>\n",
       "    <tr>\n",
       "      <th>2016-09-02</th>\n",
       "      <td>1.438915</td>\n",
       "    </tr>\n",
       "    <tr>\n",
       "      <th>2016-09-05</th>\n",
       "      <td>1.438915</td>\n",
       "    </tr>\n",
       "  </tbody>\n",
       "</table>\n",
       "<p>2466 rows × 1 columns</p>\n",
       "</div>"
      ],
      "text/plain": [
       "               Close\n",
       "Date                \n",
       "2007-03-26  0.725419\n",
       "2007-03-27  0.715451\n",
       "2007-03-28  0.714183\n",
       "2007-03-29  0.719849\n",
       "2007-03-30  0.722955\n",
       "2007-04-02  0.722336\n",
       "2007-04-03  0.721716\n",
       "2007-04-04  0.721095\n",
       "2007-04-05  0.717972\n",
       "2007-04-06  0.717972\n",
       "2007-04-09  0.711634\n",
       "2007-04-10  0.719225\n",
       "2007-04-11  0.712911\n",
       "2007-04-12  0.717343\n",
       "2007-04-13  0.721095\n",
       "2007-04-16  0.730895\n",
       "2007-04-17  0.727254\n",
       "2007-04-18  0.727254\n",
       "2007-04-19  0.724805\n",
       "2007-04-20  0.726644\n",
       "2007-04-23  0.729686\n",
       "2007-04-24  0.735091\n",
       "2007-04-25  0.727254\n",
       "2007-04-26  0.751917\n",
       "2007-04-27  0.749648\n",
       "2007-04-30  0.730895\n",
       "2007-05-01  0.743904\n",
       "2007-05-02  0.740993\n",
       "2007-05-03  0.747363\n",
       "2007-05-04  0.754732\n",
       "...              ...\n",
       "2016-07-26  1.433448\n",
       "2016-07-27  1.433340\n",
       "2016-07-28  1.432329\n",
       "2016-07-29  1.433916\n",
       "2016-08-01  1.433052\n",
       "2016-08-02  1.435133\n",
       "2016-08-03  1.437122\n",
       "2016-08-04  1.433808\n",
       "2016-08-05  1.432980\n",
       "2016-08-08  1.432075\n",
       "2016-08-09  1.431348\n",
       "2016-08-10  1.431348\n",
       "2016-08-11  1.431057\n",
       "2016-08-12  1.429813\n",
       "2016-08-15  1.429225\n",
       "2016-08-16  1.432220\n",
       "2016-08-17  1.432618\n",
       "2016-08-18  1.434919\n",
       "2016-08-19  1.433592\n",
       "2016-08-22  1.434275\n",
       "2016-08-23  1.435561\n",
       "2016-08-24  1.435739\n",
       "2016-08-25  1.435240\n",
       "2016-08-26  1.434131\n",
       "2016-08-29  1.433196\n",
       "2016-08-30  1.434418\n",
       "2016-08-31  1.433628\n",
       "2016-09-01  1.437757\n",
       "2016-09-02  1.438915\n",
       "2016-09-05  1.438915\n",
       "\n",
       "[2466 rows x 1 columns]"
      ]
     },
     "execution_count": 13,
     "metadata": {},
     "output_type": "execute_result"
    }
   ],
   "source": [
    "def logarithm(x):\n",
    "    return np.log(x)\n",
    "\n",
    "close.apply(logarithm, axis = 0)\n",
    "\n",
    "close.plot(title = \"\")"
   ]
  }
 ],
 "metadata": {
  "kernelspec": {
   "display_name": "Python 2",
   "language": "python",
   "name": "python2"
  },
  "language_info": {
   "codemirror_mode": {
    "name": "ipython",
    "version": 2
   },
   "file_extension": ".py",
   "mimetype": "text/x-python",
   "name": "python",
   "nbconvert_exporter": "python",
   "pygments_lexer": "ipython2",
   "version": "2.7.12"
  }
 },
 "nbformat": 4,
 "nbformat_minor": 1
}
